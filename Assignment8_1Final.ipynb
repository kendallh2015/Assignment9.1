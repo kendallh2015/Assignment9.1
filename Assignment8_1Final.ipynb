{
  "nbformat": 4,
  "nbformat_minor": 0,
  "metadata": {
    "colab": {
      "name": "Assignment8.1Final.ipynb",
      "provenance": [],
      "include_colab_link": true
    },
    "kernelspec": {
      "name": "python3",
      "display_name": "Python 3"
    }
  },
  "cells": [
    {
      "cell_type": "markdown",
      "metadata": {
        "id": "view-in-github",
        "colab_type": "text"
      },
      "source": [
        "<a href=\"https://colab.research.google.com/github/kendallh2015/Assignment9.1/blob/master/Assignment8_1Final.ipynb\" target=\"_parent\"><img src=\"https://colab.research.google.com/assets/colab-badge.svg\" alt=\"Open In Colab\"/></a>"
      ]
    },
    {
      "cell_type": "code",
      "metadata": {
        "id": "cD46cIvpQP9p",
        "colab_type": "code",
        "colab": {
          "base_uri": "https://localhost:8080/",
          "height": 195
        },
        "outputId": "6c8d84c6-6318-4a1b-8943-d86c58f0340a"
      },
      "source": [
        "class BankAccount():\n",
        "\n",
        "    def __init__(self, accountNumber, balance):\n",
        "        self.accountNumber = accountNumber\n",
        "        self.balance = balance # I fixed this\n",
        "\n",
        "    def deposit(self, amount):\n",
        "        self.balance = self.balance + amount\n",
        "        print(\"Deposit received. The new balance is: \", self.balance)\n",
        "\n",
        "    def withdrawl(self, amount):\n",
        "        self.balance = self.balance - amount\n",
        "        print(\"Amount withdrawn. The new balance is: \", self.balance)\n",
        "\n",
        "    def getBalance(self):\n",
        "        print(\"Current Balance: \", self.balance)\n",
        "\n",
        "\n",
        "class CheckingAccount(BankAccount):\n",
        "\n",
        "    def __init__(self, accountNumber, balance, fees, minimumBalance):\n",
        "        BankAccount.__init__(self, accountNumber, balance)\n",
        "        self.fees = fees\n",
        "        self.minimumBalance = minimumBalance\n",
        "\n",
        "    def DeductFees(self):\n",
        "        self.balance = self.balance - self.fees\n",
        "        print(\"Fees deducted. The new balance is: \", self.balance)\n",
        "\n",
        "    def CheckMinimumBalance(self):\n",
        "        if self.minimumBalance >= self.balance:\n",
        "            print(\"*WARNING* Your account is below the minimum balance\")\n",
        "        else:\n",
        "            print(\"Your account is above the minimum balance\")\n",
        "\n",
        "\n",
        "class SavingsAccount(BankAccount):\n",
        "\n",
        "    def __init__(self, accountNumber, balance, interestRate):\n",
        "        BankAccount.__init__(self, accountNumber, balance)\n",
        "        self.interestRate = interestRate\n",
        "\n",
        "    def AddInterest(self):\n",
        "        self.balance = self.balance + (self.balance * self.interestRate)\n",
        "        print(\"Inerest applied. The new balance is: \", self.balance)\n",
        "\n",
        "\n",
        "# these are calling the classes and creating objects\n",
        "ba1 = BankAccount(\"12345\", 200)\n",
        "ba1.deposit(100)\n",
        "ba1.withdrawl(50)\n",
        "ba1.getBalance()\n",
        "print(\"\\n\")\n",
        "\n",
        "ba2 = CheckingAccount(\"54321\", 100, 5, 50)\n",
        "ba2.CheckMinimumBalance()\n",
        "ba2.DeductFees()\n",
        "print(\"\\n\")\n",
        "\n",
        "ba3 = SavingsAccount(\"67891\", 150, .02)\n",
        "ba3.AddInterest()"
      ],
      "execution_count": 1,
      "outputs": [
        {
          "output_type": "stream",
          "text": [
            "Deposit received. The new balance is:  300\n",
            "Amount withdrawn. The new balance is:  250\n",
            "Current Balance:  250\n",
            "\n",
            "\n",
            "Your account is above the minimum balance\n",
            "Fees deducted. The new balance is:  95\n",
            "\n",
            "\n",
            "Inerest applied. The new balance is:  153.0\n"
          ],
          "name": "stdout"
        }
      ]
    }
  ]
}